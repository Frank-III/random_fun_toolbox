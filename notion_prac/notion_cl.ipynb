{
 "cells": [
  {
   "cell_type": "code",
   "execution_count": 2,
   "metadata": {},
   "outputs": [
    {
     "name": "stdout",
     "output_type": "stream",
     "text": [
      "secret_9lFeDdgu6qQ8NqQbRQWv7Cxv0iQRmoaKmXoHZhUUk2C\n"
     ]
    }
   ],
   "source": [
    "import os\n",
    "import sys\n",
    "from pprint import pprint\n",
    "import json\n",
    "from notion_client import Client\n",
    "from dotenv import load_dotenv\n",
    "\n",
    "load_dotenv()\n",
    "\n",
    "NOTION_TOKEN = os.getenv(\"NOTION_TOKEN\", \"\")\n",
    "\n",
    "while NOTION_TOKEN == \"\":\n",
    "    print(\"NOTION_TOKEN not found.\")\n",
    "    NOTION_TOKEN = input(\"Enter your integration token: \").strip()\n",
    "\n",
    "notion = Client(auth=NOTION_TOKEN)"
   ]
  },
  {
   "cell_type": "code",
   "execution_count": 3,
   "metadata": {},
   "outputs": [
    {
     "name": "stdout",
     "output_type": "stream",
     "text": [
      "{'has_more': False,\n",
      " 'next_cursor': None,\n",
      " 'object': 'list',\n",
      " 'results': [{'avatar_url': 'https://s3-us-west-2.amazonaws.com/public.notion-static.com/82262924-b071-4061-a036-6ec6813fadbb/notion-avatar-1633019390755.png',\n",
      "              'id': 'f4137a74-5733-4f59-8ff1-3abcdc62fc38',\n",
      "              'name': 'JD Wang',\n",
      "              'object': 'user',\n",
      "              'person': {'email': 'jiangda2@illinois.edu'},\n",
      "              'type': 'person'},\n",
      "             {'avatar_url': None,\n",
      "              'bot': {'owner': {'type': 'workspace', 'workspace': True}},\n",
      "              'id': 'c4590bdd-1848-45c1-9081-8e032a2e8390',\n",
      "              'name': 'my',\n",
      "              'object': 'user',\n",
      "              'type': 'bot'}],\n",
      " 'type': 'user',\n",
      " 'user': {}}\n"
     ]
    }
   ],
   "source": [
    "from pprint import pprint\n",
    "\n",
    "list_users_response = notion.users.list()\n",
    "pprint(list_users_response)"
   ]
  },
  {
   "cell_type": "code",
   "execution_count": 19,
   "metadata": {},
   "outputs": [],
   "source": [
    "def get_page(name):\n",
    "  return notion.databases.query(\n",
    "    **{\n",
    "          \"database_id\": \"c6431957f20d4b39b806a39f7b24aa81\",\n",
    "          \"filter\": {\n",
    "              \"property\": \"Name\",\n",
    "              \"title\":{\n",
    "                \"equals\": name,\n",
    "              },\n",
    "          },\n",
    "      }\n",
    ")\n"
   ]
  },
  {
   "cell_type": "code",
   "execution_count": 33,
   "metadata": {},
   "outputs": [],
   "source": [
    "def get_page_id(retrieved_page):\n",
    "  return (retrieved_page['results'][0]['url']).split(\"-\")[-1]"
   ]
  },
  {
   "cell_type": "code",
   "execution_count": 59,
   "metadata": {},
   "outputs": [
    {
     "data": {
      "text/plain": [
       "'701de41ad13c4cd680cd0bf0d387ce0f'"
      ]
     },
     "execution_count": 59,
     "metadata": {},
     "output_type": "execute_result"
    }
   ],
   "source": [
    "TSx_url = get_page(\"TSx.jl\")\n",
    "TSx_id = get_page_id(TSx_url) \n",
    "TSx_id"
   ]
  },
  {
   "cell_type": "code",
   "execution_count": 60,
   "metadata": {},
   "outputs": [
    {
     "data": {
      "text/plain": [
       "{'object': 'page',\n",
       " 'id': '701de41a-d13c-4cd6-80cd-0bf0d387ce0f',\n",
       " 'created_time': '2022-04-30T03:52:00.000Z',\n",
       " 'last_edited_time': '2022-09-11T16:31:00.000Z',\n",
       " 'created_by': {'object': 'user',\n",
       "  'id': 'f4137a74-5733-4f59-8ff1-3abcdc62fc38'},\n",
       " 'last_edited_by': {'object': 'user',\n",
       "  'id': 'f4137a74-5733-4f59-8ff1-3abcdc62fc38'},\n",
       " 'cover': None,\n",
       " 'icon': None,\n",
       " 'parent': {'type': 'database_id',\n",
       "  'database_id': 'c6431957-f20d-4b39-b806-a39f7b24aa81'},\n",
       " 'archived': False,\n",
       " 'properties': {'Belongings': {'id': 'HSh%3C',\n",
       "   'type': 'select',\n",
       "   'select': {'id': 'TXDT', 'name': 'self', 'color': 'brown'}},\n",
       "  'Field': {'id': 'VEYD',\n",
       "   'type': 'multi_select',\n",
       "   'multi_select': [{'id': '357459ea-3a5f-4104-8202-293a0c1ffccf',\n",
       "     'name': 'TimeSeries',\n",
       "     'color': 'red'}]},\n",
       "  'Size': {'id': 'XCeC',\n",
       "   'type': 'select',\n",
       "   'select': {'id': 'a3247cb2-d4b8-4f04-9546-d72a06dc0e41',\n",
       "    'name': 'Small',\n",
       "    'color': 'brown'}},\n",
       "  'Website': {'id': 'f%5Dtl',\n",
       "   'type': 'rich_text',\n",
       "   'rich_text': [{'type': 'text',\n",
       "     'text': {'content': 'https://github.com/xKDR/TSx.jl',\n",
       "      'link': {'url': 'https://github.com/xKDR/TSx.jl'}},\n",
       "     'annotations': {'bold': False,\n",
       "      'italic': False,\n",
       "      'strikethrough': False,\n",
       "      'underline': False,\n",
       "      'code': False,\n",
       "      'color': 'default'},\n",
       "     'plain_text': 'https://github.com/xKDR/TSx.jl',\n",
       "     'href': 'https://github.com/xKDR/TSx.jl'}]},\n",
       "  'focused(currently)': {'id': 'w%7B%3EM',\n",
       "   'type': 'multi_select',\n",
       "   'multi_select': [{'id': '5f179373-3063-453b-acc6-8144e725e7a5',\n",
       "     'name': 'DataSlicing',\n",
       "     'color': 'brown'}]},\n",
       "  'Name': {'id': 'title',\n",
       "   'type': 'title',\n",
       "   'title': [{'type': 'text',\n",
       "     'text': {'content': 'TSx.jl', 'link': None},\n",
       "     'annotations': {'bold': False,\n",
       "      'italic': False,\n",
       "      'strikethrough': False,\n",
       "      'underline': False,\n",
       "      'code': False,\n",
       "      'color': 'default'},\n",
       "     'plain_text': 'TSx.jl',\n",
       "     'href': None}]}},\n",
       " 'url': 'https://www.notion.so/TSx-jl-701de41ad13c4cd680cd0bf0d387ce0f'}"
      ]
     },
     "execution_count": 60,
     "metadata": {},
     "output_type": "execute_result"
    }
   ],
   "source": [
    "notion.pages.retrieve(page_id=TSx_id)"
   ]
  },
  {
   "cell_type": "code",
   "execution_count": 62,
   "metadata": {},
   "outputs": [],
   "source": [
    "TSx_page = notion.blocks.children.list(TSx_id)"
   ]
  },
  {
   "cell_type": "code",
   "execution_count": 63,
   "metadata": {},
   "outputs": [
    {
     "data": {
      "text/plain": [
       "dict_keys(['object', 'results', 'next_cursor', 'has_more', 'type', 'block'])"
      ]
     },
     "execution_count": 63,
     "metadata": {},
     "output_type": "execute_result"
    }
   ],
   "source": [
    "TSx_page.keys()"
   ]
  },
  {
   "cell_type": "code",
   "execution_count": 73,
   "metadata": {},
   "outputs": [
    {
     "data": {
      "text/plain": [
       "{'object': 'block',\n",
       " 'id': 'de68f228-1f10-44f2-87d0-8a089616db10',\n",
       " 'parent': {'type': 'page_id',\n",
       "  'page_id': '701de41a-d13c-4cd6-80cd-0bf0d387ce0f'},\n",
       " 'created_time': '2022-04-30T03:52:00.000Z',\n",
       " 'last_edited_time': '2022-09-07T02:43:00.000Z',\n",
       " 'created_by': {'object': 'user',\n",
       "  'id': 'f4137a74-5733-4f59-8ff1-3abcdc62fc38'},\n",
       " 'last_edited_by': {'object': 'user',\n",
       "  'id': 'f4137a74-5733-4f59-8ff1-3abcdc62fc38'},\n",
       " 'has_children': False,\n",
       " 'archived': False,\n",
       " 'type': 'heading_2',\n",
       " 'heading_2': {'rich_text': [{'type': 'text',\n",
       "    'text': {'content': 'Problem to focus on:', 'link': None},\n",
       "    'annotations': {'bold': False,\n",
       "     'italic': False,\n",
       "     'strikethrough': False,\n",
       "     'underline': False,\n",
       "     'code': False,\n",
       "     'color': 'default'},\n",
       "    'plain_text': 'Problem to focus on:',\n",
       "    'href': None}],\n",
       "  'is_toggleable': False,\n",
       "  'color': 'default'}}"
      ]
     },
     "execution_count": 73,
     "metadata": {},
     "output_type": "execute_result"
    }
   ],
   "source": [
    "TSx_page['results'][1]"
   ]
  },
  {
   "cell_type": "code",
   "execution_count": null,
   "metadata": {},
   "outputs": [],
   "source": []
  }
 ],
 "metadata": {
  "kernelspec": {
   "display_name": "Python 3.8.13 ('newpy')",
   "language": "python",
   "name": "python3"
  },
  "language_info": {
   "codemirror_mode": {
    "name": "ipython",
    "version": 3
   },
   "file_extension": ".py",
   "mimetype": "text/x-python",
   "name": "python",
   "nbconvert_exporter": "python",
   "pygments_lexer": "ipython3",
   "version": "3.8.13"
  },
  "orig_nbformat": 4,
  "vscode": {
   "interpreter": {
    "hash": "3380e85a957b2326e902e75459f9c05bdc279c136cb782d783d421f1711ce9ef"
   }
  }
 },
 "nbformat": 4,
 "nbformat_minor": 2
}
