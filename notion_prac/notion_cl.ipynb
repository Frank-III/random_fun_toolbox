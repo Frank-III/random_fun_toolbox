{
 "cells": [
  {
   "cell_type": "code",
   "execution_count": null,
   "metadata": {},
   "outputs": [],
   "source": [
    "import os\n",
    "import sys\n",
    "from pprint import pprint\n",
    "import json\n",
    "from notion_client import Client\n",
    "from dotenv import load_dotenv\n",
    "\n",
    "load_dotenv()\n",
    "\n",
    "NOTION_TOKEN = os.getenv(\"NOTION_TOKEN\", \"\")\n",
    "\n",
    "while NOTION_TOKEN == \"\":\n",
    "    print(\"NOTION_TOKEN not found.\")\n",
    "    NOTION_TOKEN = input(\"Enter your integration token: \").strip()\n",
    "\n",
    "notion = Client(auth=NOTION_TOKEN)"
   ]
  },
  {
   "cell_type": "code",
   "execution_count": null,
   "metadata": {},
   "outputs": [],
   "source": [
    "from pprint import pprint\n",
    "\n",
    "list_users_response = notion.users.list()\n",
    "pprint(list_users_response)"
   ]
  },
  {
   "cell_type": "code",
   "execution_count": null,
   "metadata": {},
   "outputs": [],
   "source": [
    "def get_page(name):\n",
    "  return notion.databases.query(\n",
    "    **{\n",
    "          \"database_id\": os.getenv(\"database_id\",\"\"),\n",
    "          \"filter\": {\n",
    "              \"property\": \"Name\",\n",
    "              \"title\":{\n",
    "                \"equals\": name,\n",
    "              },\n",
    "          },\n",
    "      }\n",
    ")\n"
   ]
  },
  {
   "cell_type": "code",
   "execution_count": null,
   "metadata": {},
   "outputs": [],
   "source": [
    "def get_page_id(retrieved_page):\n",
    "  return (retrieved_page['results'][0]['url']).split(\"-\")[-1]"
   ]
  },
  {
   "cell_type": "code",
   "execution_count": null,
   "metadata": {},
   "outputs": [],
   "source": [
    "TSx_url = get_page(\"TSx.jl\")\n",
    "TSx_id = get_page_id(TSx_url) \n",
    "TSx_id"
   ]
  },
  {
   "cell_type": "code",
   "execution_count": null,
   "metadata": {},
   "outputs": [],
   "source": [
    "notion.pages.retrieve(page_id=TSx_id)"
   ]
  },
  {
   "cell_type": "code",
   "execution_count": null,
   "metadata": {},
   "outputs": [],
   "source": [
    "TSx_page = notion.blocks.children.list(TSx_id)"
   ]
  },
  {
   "cell_type": "code",
   "execution_count": null,
   "metadata": {},
   "outputs": [],
   "source": [
    "TSx_page.keys()"
   ]
  },
  {
   "cell_type": "code",
   "execution_count": null,
   "metadata": {},
   "outputs": [],
   "source": [
    "TSx_page['results'][2]"
   ]
  },
  {
   "cell_type": "code",
   "execution_count": null,
   "metadata": {},
   "outputs": [],
   "source": [
    "TSx_page['results'][4]"
   ]
  },
  {
   "cell_type": "code",
   "execution_count": null,
   "metadata": {},
   "outputs": [],
   "source": [
    "notion.blocks.children.list()"
   ]
  },
  {
   "cell_type": "code",
   "execution_count": null,
   "metadata": {},
   "outputs": [],
   "source": []
  }
 ],
 "metadata": {
  "kernelspec": {
   "display_name": "Python 3.8.13 ('newpy')",
   "language": "python",
   "name": "python3"
  },
  "language_info": {
   "codemirror_mode": {
    "name": "ipython",
    "version": 3
   },
   "file_extension": ".py",
   "mimetype": "text/x-python",
   "name": "python",
   "nbconvert_exporter": "python",
   "pygments_lexer": "ipython3",
   "version": "3.8.13"
  },
  "orig_nbformat": 4,
  "vscode": {
   "interpreter": {
    "hash": "3380e85a957b2326e902e75459f9c05bdc279c136cb782d783d421f1711ce9ef"
   }
  }
 },
 "nbformat": 4,
 "nbformat_minor": 2
}
