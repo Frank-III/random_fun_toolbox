{
 "cells": [
  {
   "cell_type": "code",
   "execution_count": null,
   "metadata": {},
   "outputs": [],
   "source": [
    "import os\n",
    "import sys\n",
    "from pprint import pprint\n",
    "import json\n",
    "from notion_client import Client\n",
    "from dotenv import load_dotenv\n",
    "\n",
    "load_dotenv()\n",
    "\n",
    "NOTION_TOKEN = os.getenv(\"NOTION_TOKEN\", \"\")\n",
    "\n",
    "while NOTION_TOKEN == \"\":\n",
    "    print(\"NOTION_TOKEN not found.\")\n",
    "    NOTION_TOKEN = input(\"Enter your integration token: \").strip()\n",
    "\n",
    "notion = Client(auth=NOTION_TOKEN)"
   ]
  },
  {
   "cell_type": "code",
   "execution_count": null,
   "metadata": {},
   "outputs": [],
   "source": [
    "from pprint import pprint\n",
    "\n",
    "list_users_response = notion.users.list()\n",
    "pprint(list_users_response)"
   ]
  },
  {
   "cell_type": "code",
   "execution_count": null,
   "metadata": {},
   "outputs": [],
   "source": [
    "def get_page(name):\n",
    "  return notion.databases.query(\n",
    "    **{\n",
    "          \"database_id\": os.getenv(\"database_id\",\"\"),\n",
    "          \"filter\": {\n",
    "              \"property\": \"Name\",\n",
    "              \"title\":{\n",
    "                \"equals\": name,\n",
    "              },\n",
    "          },\n",
    "      }\n",
    ")\n"
   ]
  },
  {
   "cell_type": "code",
   "execution_count": null,
   "metadata": {},
   "outputs": [],
   "source": [
    "def get_page_id(retrieved_page):\n",
    "  return (retrieved_page[\"results\"][0][\"url\"]).split(\"-\")[-1]"
   ]
  },
  {
   "cell_type": "code",
   "execution_count": null,
   "outputs": [],
   "source": [
    "get_page(\"TSx.jl\")"
   ],
   "metadata": {
    "collapsed": false
   }
  },
  {
   "cell_type": "code",
   "execution_count": null,
   "metadata": {},
   "outputs": [],
   "source": [
    "TSx_url = get_page(\"TSx.jl\")\n",
    "TSx_id = get_page_id(TSx_url)"
   ]
  },
  {
   "cell_type": "code",
   "execution_count": null,
   "metadata": {},
   "outputs": [],
   "source": [
    "TSx_page_id = notion.pages.retrieve(page_id=TSx_id)[\"url\"]"
   ]
  },
  {
   "cell_type": "code",
   "execution_count": null,
   "metadata": {},
   "outputs": [],
   "source": [
    "TSx_page = notion.blocks.children.list(TSx_id)"
   ]
  },
  {
   "cell_type": "code",
   "execution_count": null,
   "metadata": {},
   "outputs": [],
   "source": [
    "pprint(TSx_page)"
   ]
  },
  {
   "cell_type": "code",
   "execution_count": null,
   "metadata": {},
   "outputs": [],
   "source": [
    "TSx_page[\"results\"]"
   ]
  },
  {
   "cell_type": "code",
   "execution_count": null,
   "metadata": {},
   "outputs": [],
   "source": [
    "def print_paragraph(page):\n",
    "  for paragraph in page[\"results\"]:\n",
    "    paragraph_type = paragraph[\"type\"]\n",
    "    pprint(paragraph[paragraph_type])[\"rich_text\"][1][\"plain_text\"]\n",
    "    if paragraph[\"has_children\"]:\n",
    "      paragraph_id=paragraph[\"id\"]\n",
    "      paragraph_children = notion.blocks.children.list(paragraph_id)"
   ]
  },
  {
   "cell_type": "code",
   "execution_count": null,
   "metadata": {},
   "outputs": [],
   "source": [
    "pprint(TSx_page[\"results\"][0])"
   ]
  },
  {
   "cell_type": "code",
   "execution_count": null,
   "metadata": {},
   "outputs": [],
   "source": [
    "pprint(TSx_page[\"results\"][5])"
   ]
  },
  {
   "cell_type": "code",
   "execution_count": null,
   "metadata": {},
   "outputs": [],
   "source": [
    "pprint(notion.blocks.children.list(TSx_page[\"results\"][1][\"id\"])[\"results\"])"
   ]
  },
  {
   "cell_type": "code",
   "execution_count": null,
   "metadata": {},
   "outputs": [],
   "source": [
    "#have to figure out how to update or append new paragraph\n",
    "notion.blocks.update?\n",
    "notion.blocks.children.append?"
   ]
  },
  {
   "cell_type": "code",
   "execution_count": null,
   "metadata": {},
   "outputs": [],
   "source": [
    "notion.blocks.children.append?"
   ]
  },
  {
   "cell_type": "code",
   "execution_count": null,
   "metadata": {},
   "outputs": [],
   "source": []
  },
  {
   "cell_type": "code",
   "execution_count": null,
   "metadata": {},
   "outputs": [],
   "source": [
    "def parse_text_with_code(sentence):\n",
    "  \"\"\"\n",
    "  when sentence like:\n",
    "  1. implement `Base.getproperty` function for `TS`\n",
    "  2. the test `log.(ts) == TS(log.(ts.x1), log.(ts.x2), date)` should pass and `log.(ts[:,[:x,:y]])` should also work\n",
    "  should convert the `` to code\n",
    "  \"\"\"\n",
    "  #r'''((?:[^;\"']|\"[^\"]*\"|'[^']*')+)'''\n",
    "  words = re.split('(`[^`]*`)', sentence)\n",
    "  parse_code_block = lambda hascode, content: {'annotations': {'code': hascode},\n",
    "                           'text': {'content': content},\n",
    "                           'type': 'text'}\n",
    "\n",
    "  parsed_res = [parse_code_block(True, w[1:-1]) if (w[0] == \"`\" and w[-1] == \"`\") else parse_code_block(False, w) for w in words ]\n",
    "  return parsed_res\n",
    "\n",
    "parse_text_with_code(\"the test `log.(ts) == TS(log.(ts.x1), log.(ts.x2), date)` should pass and `log.(ts[:,[:x,:y]])` should also work\")"
   ]
  },
  {
   "cell_type": "code",
   "execution_count": null,
   "metadata": {},
   "outputs": [],
   "source": [
    "def parse_input(title,**kwargs):\n",
    "  if title.find(\"`\") == -1:\n",
    "    toggle_template = [{'type': 'toggle',\n",
    "    'toggle': {'rich_text': [{'type': 'text',\n",
    "       'text': {'content': title, 'link': kwargs.get(\"link\",None)}}],\n",
    "     'color': 'default',\n",
    "     'children': [{'type': 'code',\n",
    "       'code': {'rich_text': [{'type': 'text',\n",
    "          'text': {'content': kwargs.get(\"code\", \"should be filled in with example\")}}],\n",
    "        'language': kwargs.get(\"language\", \"julia\")}}]}}]\n",
    "  else:\n",
    "    parsed_res = parse_text_with_code(title)\n",
    "    toggle_template = [{'type': 'toggle',\n",
    "    'toggle': {'rich_text': parsed_res,\n",
    "     'color': 'default',\n",
    "     'children': [{'type': 'code',\n",
    "       'code': {'rich_text': [{'type': 'text',\n",
    "          'text': {'content': kwargs.get(\"code\", \"should be filled in with example\")}}],\n",
    "        'language': kwargs.get(\"language\", \"julia\")}}]}}]\n",
    "  return toggle_template"
   ]
  },
  {
   "cell_type": "code",
   "execution_count": null,
   "outputs": [],
   "source": [
    "parse_input(\"the test should also work\")"
   ],
   "metadata": {
    "collapsed": false
   }
  },
  {
   "cell_type": "code",
   "execution_count": null,
   "outputs": [],
   "source": [
    "parse_input(\"the test `log.(ts) == TS(log.(ts.x1), log.(ts.x2), date)` should pass and `log.(ts[:,[:x,:y]])` should also work\")"
   ],
   "metadata": {
    "collapsed": false
   }
  },
  {
   "cell_type": "code",
   "execution_count": null,
   "metadata": {},
   "outputs": [],
   "source": [
    "s = \"the test `log.(ts) == TS(log.(ts.x1), log.(ts.x2), date)` should pass and `log.(ts[:,[:x,:y]])` should also work\"\n",
    "new_item = parse_input(s, code=\"ts.x == ts[:,:x]\")\n",
    "new_item"
   ]
  },
  {
   "cell_type": "code",
   "execution_count": null,
   "metadata": {},
   "outputs": [],
   "source": [
    "notion.blocks.children.append(TSx_id, children=new_item)"
   ]
  },
  {
   "cell_type": "code",
   "execution_count": null,
   "metadata": {},
   "outputs": [],
   "source": []
  }
 ],
 "metadata": {
  "kernelspec": {
   "display_name": "Python 3.8.13 ('newpy')",
   "language": "python",
   "name": "python3"
  },
  "language_info": {
   "codemirror_mode": {
    "name": "ipython",
    "version": 3
   },
   "file_extension": ".py",
   "mimetype": "text/x-python",
   "name": "python",
   "nbconvert_exporter": "python",
   "pygments_lexer": "ipython3",
   "version": "3.8.13"
  },
  "orig_nbformat": 4,
  "vscode": {
   "interpreter": {
    "hash": "3380e85a957b2326e902e75459f9c05bdc279c136cb782d783d421f1711ce9ef"
   }
  }
 },
 "nbformat": 4,
 "nbformat_minor": 2
}
